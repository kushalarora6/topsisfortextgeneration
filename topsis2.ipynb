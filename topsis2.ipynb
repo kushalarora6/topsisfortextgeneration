{
  "nbformat": 4,
  "nbformat_minor": 0,
  "metadata": {
    "colab": {
      "provenance": [],
      "authorship_tag": "ABX9TyMKH1atf1pQ2kesVVqY7FaY",
      "include_colab_link": true
    },
    "kernelspec": {
      "name": "python3",
      "display_name": "Python 3"
    },
    "language_info": {
      "name": "python"
    }
  },
  "cells": [
    {
      "cell_type": "markdown",
      "metadata": {
        "id": "view-in-github",
        "colab_type": "text"
      },
      "source": [
        "<a href=\"https://colab.research.google.com/github/kushalarora6/topsisfortextgeneration/blob/main/topsis2.ipynb\" target=\"_parent\"><img src=\"https://colab.research.google.com/assets/colab-badge.svg\" alt=\"Open In Colab\"/></a>"
      ]
    },
    {
      "cell_type": "code",
      "execution_count": 1,
      "metadata": {
        "colab": {
          "base_uri": "https://localhost:8080/"
        },
        "id": "Atqw5T2TKSSb",
        "outputId": "bb7fd3c9-c6b7-4e3c-f253-81fb8da49a6f"
      },
      "outputs": [
        {
          "output_type": "stream",
          "name": "stdout",
          "text": [
            "Requirement already satisfied: numpy in /usr/local/lib/python3.10/dist-packages (1.26.4)\n",
            "Requirement already satisfied: pandas in /usr/local/lib/python3.10/dist-packages (2.2.2)\n",
            "Requirement already satisfied: matplotlib in /usr/local/lib/python3.10/dist-packages (3.8.0)\n",
            "Requirement already satisfied: python-dateutil>=2.8.2 in /usr/local/lib/python3.10/dist-packages (from pandas) (2.8.2)\n",
            "Requirement already satisfied: pytz>=2020.1 in /usr/local/lib/python3.10/dist-packages (from pandas) (2024.2)\n",
            "Requirement already satisfied: tzdata>=2022.7 in /usr/local/lib/python3.10/dist-packages (from pandas) (2024.2)\n",
            "Requirement already satisfied: contourpy>=1.0.1 in /usr/local/lib/python3.10/dist-packages (from matplotlib) (1.3.1)\n",
            "Requirement already satisfied: cycler>=0.10 in /usr/local/lib/python3.10/dist-packages (from matplotlib) (0.12.1)\n",
            "Requirement already satisfied: fonttools>=4.22.0 in /usr/local/lib/python3.10/dist-packages (from matplotlib) (4.55.3)\n",
            "Requirement already satisfied: kiwisolver>=1.0.1 in /usr/local/lib/python3.10/dist-packages (from matplotlib) (1.4.7)\n",
            "Requirement already satisfied: packaging>=20.0 in /usr/local/lib/python3.10/dist-packages (from matplotlib) (24.2)\n",
            "Requirement already satisfied: pillow>=6.2.0 in /usr/local/lib/python3.10/dist-packages (from matplotlib) (11.0.0)\n",
            "Requirement already satisfied: pyparsing>=2.3.1 in /usr/local/lib/python3.10/dist-packages (from matplotlib) (3.2.0)\n",
            "Requirement already satisfied: six>=1.5 in /usr/local/lib/python3.10/dist-packages (from python-dateutil>=2.8.2->pandas) (1.17.0)\n"
          ]
        }
      ],
      "source": [
        "!pip install numpy pandas matplotlib"
      ]
    },
    {
      "cell_type": "code",
      "source": [
        "import pandas as pd\n",
        "\n",
        "# Define the criteria\n",
        "criteria = ['Accuracy', 'Training Time', 'Model Size', 'Inference Speed', 'Diversity Score']\n",
        "\n",
        "# Define the models and their performance metrics\n",
        "data = {\n",
        "    'Model': ['GPT-2', 'GPT-3', 'T5', 'BART', 'MarianMT', 'mBART'],\n",
        "    'Accuracy': [0.75, 0.85, 0.78, 0.80, 0.76, 0.79],\n",
        "    'Training Time': [120, 300, 150, 180, 100, 200],  # in seconds\n",
        "    'Model Size': [500, 1750, 600, 700, 300, 800],  # in MB\n",
        "    'Inference Speed': [30, 50, 40, 35, 25, 45],  # in ms\n",
        "    'Diversity Score': [0.85, 0.90, 0.80, 0.88, 0.82, 0.84]\n",
        "}\n",
        "\n",
        "df = pd.DataFrame(data)"
      ],
      "metadata": {
        "id": "qbCM58IaKfQY"
      },
      "execution_count": 2,
      "outputs": []
    },
    {
      "cell_type": "code",
      "source": [
        "# Normalize the data\n",
        "normalized_df = df.copy()\n",
        "for column in criteria[1:]:  # Skip the 'Model' column\n",
        "    normalized_df[column] = (df[column] - df[column].min()) / (df[column].max() - df[column].min())"
      ],
      "metadata": {
        "id": "V6xFMC6TKjjw"
      },
      "execution_count": 3,
      "outputs": []
    },
    {
      "cell_type": "code",
      "source": [
        "# Define weights for each criterion\n",
        "weights = {\n",
        "    'Accuracy': 0.4,\n",
        "    'Training Time': 0.2,\n",
        "    'Model Size': 0.1,\n",
        "    'Inference Speed': 0.2,\n",
        "    'Diversity Score': 0.1\n",
        "}"
      ],
      "metadata": {
        "id": "ahxyZN8dKoXU"
      },
      "execution_count": 4,
      "outputs": []
    },
    {
      "cell_type": "code",
      "source": [
        "# Calculate ideal and negative ideal solutions\n",
        "ideal_solution = normalized_df[criteria[1:]].max()\n",
        "negative_ideal_solution = normalized_df[criteria[1:]].min()"
      ],
      "metadata": {
        "id": "foKDJjNvKrKO"
      },
      "execution_count": 5,
      "outputs": []
    },
    {
      "cell_type": "code",
      "source": [
        "import numpy as np\n",
        "\n",
        "# Calculate distances\n",
        "def calculate_distances(row):\n",
        "    d_star = np.sqrt(((row[criteria[1:]] - ideal_solution) ** 2).sum())\n",
        "    d_minus = np.sqrt(((row[criteria[1:]] - negative_ideal_solution) ** 2).sum())\n",
        "    return pd.Series([d_star, d_minus])\n",
        "\n",
        "normalized_df[['D_star', 'D_minus']] = normalized_df.apply(calculate_distances, axis=1)"
      ],
      "metadata": {
        "id": "ZQVUFXIFKt10"
      },
      "execution_count": 6,
      "outputs": []
    },
    {
      "cell_type": "code",
      "source": [
        "# Calculate relative closeness\n",
        "normalized_df['C'] = normalized_df['D_minus'] / (normalized_df['D_star'] + normalized_df['D_minus'])\n",
        "\n",
        "# Rank the models\n",
        "normalized_df['Rank'] = normalized_df['C'].rank(ascending=False)"
      ],
      "metadata": {
        "id": "w30kAZ79KxD9"
      },
      "execution_count": 8,
      "outputs": []
    },
    {
      "cell_type": "code",
      "source": [
        "import matplotlib.pyplot as plt\n",
        "\n",
        "# Plotting the results\n",
        "plt.figure(figsize=(10, 6))\n",
        "plt.barh(normalized_df['Model'], normalized_df['C'], color='skyblue')\n",
        "plt.xlabel('Relative Closeness to Ideal Solution')\n",
        "plt.title('TOPSIS Ranking of Pre-trained Models for Text Generation')\n",
        "plt.grid(axis='x')\n",
        "plt.show()"
      ],
      "metadata": {
        "colab": {
          "base_uri": "https://localhost:8080/",
          "height": 564
        },
        "id": "vRvqXWktK2XJ",
        "outputId": "24bfd51d-acf8-445b-bf99-25ad79727a9b"
      },
      "execution_count": 9,
      "outputs": [
        {
          "output_type": "display_data",
          "data": {
            "text/plain": [
              "<Figure size 1000x600 with 1 Axes>"
            ],
            "image/png": "[encoded data removed]"
          },
          "metadata": {}
        }
      ]
    }
  ]
}